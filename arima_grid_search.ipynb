{
 "cells": [
  {
   "cell_type": "markdown",
   "metadata": {},
   "source": [
    "This notebook grid searchs for the best model for ARIMA based on the dataset."
   ]
  },
  {
   "cell_type": "code",
   "execution_count": 142,
   "metadata": {},
   "outputs": [],
   "source": [
    "# import libraries\n",
    "\n",
    "# ARIMA libraries\n",
    "from math import sqrt\n",
    "from sklearn.metrics import mean_squared_error\n",
    "from statsmodels.tsa.arima_model import ARIMA\n",
    "from statsmodels.tsa.arima_model import ARIMAResults\n",
    "\n",
    "# Parallel Libraries\n",
    "from multiprocessing import cpu_count\n",
    "from joblib import Parallel, delayed\n",
    "\n",
    "# Regular libraries\n",
    "import itertools\n",
    "import numpy as np\n",
    "import pandas as pd\n",
    "import warnings\n",
    "warnings.filterwarnings(\"ignore\")"
   ]
  },
  {
   "cell_type": "code",
   "execution_count": 143,
   "metadata": {},
   "outputs": [],
   "source": [
    "def evaluate_arima_model(args):\n",
    "    \"\"\"evaluate an ARIMA model for a given order (p,d,q) and return RMSE\"\"\"\n",
    "    \n",
    "    # distribute args to appropriate variables\n",
    "    test, history, order = args\n",
    "    \n",
    "    # make predictions\n",
    "    predictions = []\n",
    "    for t in range(len(test)):\n",
    "        model = ARIMA(history, order=order)\n",
    "        \n",
    "        # fit model\n",
    "        try:\n",
    "            model_fit = model.fit(trend='nc', disp=0)\n",
    "            yhat = model_fit.forecast()[0]\n",
    "            predictions.append(yhat)\n",
    "            history.append(test[t])\n",
    "        except:\n",
    "            continue\n",
    "        \n",
    "    # calculate out of sample error\n",
    "    try:\n",
    "        rmse = sqrt(mean_squared_error(test, predictions))\n",
    "        print('RMSE is', round(rmse,3), 'with ARIMA of', order)\n",
    "    \n",
    "    except Exception as e:\n",
    "        print(e)\n",
    "        print('Model did not fit/predict so unable to compute RMSE for order', order)\n",
    "        rmse = 999999\n",
    "    \n",
    "    return rmse, order\n",
    "    "
   ]
  },
  {
   "cell_type": "code",
   "execution_count": 144,
   "metadata": {},
   "outputs": [],
   "source": [
    "def evaluate_models(X, arima_list):\n",
    "    \"\"\"evaluate combinations of p, d and q values for an ARIMA model\"\"\"    \n",
    "    \n",
    "    # prepare training dataset\n",
    "    X = X.astype('float32')\n",
    "    train_size = int(len(X) * 0.50)\n",
    "    train, test = X[0:train_size], X[train_size:]\n",
    "    history = list(train)\n",
    "    rmse_list = []\n",
    "    \n",
    "    # Need to create the same number of inputs for each argument into the parallel function\n",
    "    test_list = len(arima_list)*[X]\n",
    "    history_list = len(arima_list)*[history]\n",
    "    zip_list = list(zip(test_list, history_list, arima_list))\n",
    "    \n",
    "    # call function and run in parallel\n",
    "    rmse_list = Parallel(n_jobs=-1, verbose=10)(delayed(evaluate_arima_model)(args) for args in zip_list)\n",
    "    \n",
    "    # Sort the RMSEs\n",
    "    rmse_list.sort(key=lambda tup: tup[0])\n",
    "    \n",
    "    # Sometimes, we do not have any ARIMA models that successfully fit and predict.\n",
    "    try:\n",
    "        print(f'\\nBest RMSE Score is {round(rmse_list[0][0],3)} with ARIMA of {rmse_list[0][1]}')\n",
    "    except:\n",
    "        print('No ARIMA models fit and predicted successfully. Try different p,d,q parameters')\n",
    "    \n",
    "    # We just need the order, not the RMSE\n",
    "    order_list = [item[1] for item in rmse_list]\n",
    "\n",
    "    return order_list\n"
   ]
  },
  {
   "cell_type": "code",
   "execution_count": 145,
   "metadata": {},
   "outputs": [],
   "source": [
    "def driver(df, arg_dict):\n",
    "    \"\"\"Driver program for finding best_cfg for ARIMA. Returned as a sorted list of all results\"\"\"\n",
    "    # load dataset\n",
    "    series = df[arg_dict['dependent_variable']]\n",
    "\n",
    "    # evaluate parameters\n",
    "    p_values = arg_dict['p_values']\n",
    "    d_values = arg_dict['d_values']\n",
    "    q_values = arg_dict['q_values']\n",
    "    \n",
    "    # Generate all different combinations of p, d and q triplets\n",
    "    arima_list = list(itertools.product(p_values, d_values, q_values))\n",
    "    \n",
    "    # Grid search the possibilities\n",
    "    order_list = evaluate_models(series.values, arima_list)\n",
    "    \n",
    "    return order_list\n"
   ]
  },
  {
   "cell_type": "code",
   "execution_count": 146,
   "metadata": {},
   "outputs": [
    {
     "name": "stderr",
     "output_type": "stream",
     "text": [
      "[Parallel(n_jobs=-1)]: Using backend LokyBackend with 4 concurrent workers.\n",
      "[Parallel(n_jobs=-1)]: Done   2 out of   8 | elapsed:    3.9s remaining:   11.8s\n",
      "[Parallel(n_jobs=-1)]: Done   3 out of   8 | elapsed:   12.1s remaining:   20.2s\n",
      "[Parallel(n_jobs=-1)]: Done   4 out of   8 | elapsed:   18.2s remaining:   18.2s\n",
      "[Parallel(n_jobs=-1)]: Done   5 out of   8 | elapsed:   19.3s remaining:   11.5s\n",
      "[Parallel(n_jobs=-1)]: Done   6 out of   8 | elapsed:   19.4s remaining:    6.4s\n"
     ]
    },
    {
     "name": "stdout",
     "output_type": "stream",
     "text": [
      "\n",
      "Best RMSE Score is 9879.337 with ARIMA of (1, 0, 0)\n"
     ]
    },
    {
     "name": "stderr",
     "output_type": "stream",
     "text": [
      "[Parallel(n_jobs=-1)]: Done   8 out of   8 | elapsed:   56.0s remaining:    0.0s\n",
      "[Parallel(n_jobs=-1)]: Done   8 out of   8 | elapsed:   56.0s finished\n"
     ]
    }
   ],
   "source": [
    "if __name__ == '__main__':\n",
    "    \n",
    "    \n",
    "    # Arguments for driver\n",
    "    arg_dict = {'file_name_1': r'data\\all_df.csv',\n",
    "                'file_name_2': r'C:\\Users\\linds\\OneDrive\\mystuff\\GitHub\\covid\\data\\country_codes_edited.csv',\n",
    "                'feature': 'Alpha_3',\n",
    "                'place': 'USA',\n",
    "                'dependent_variable': 'Deaths',\n",
    "                'path': r'C:\\Users\\linds\\OneDrive\\mystuff\\GitHub\\COVID-19\\csse_covid_19_data\\csse_covid_19_daily_reports',\n",
    "                'p_values': range(0,2),\n",
    "                'd_values': range(0,2),\n",
    "                'q_values': range(0,2),\n",
    "                'split_value': .5,\n",
    "                'bias': 0,\n",
    "                'date': '12-31-2020'}\n",
    "    \n",
    "    df = pd.read_csv('df.csv')\n",
    "    \n",
    "    # Start driver\n",
    "    order_list = driver(df, arg_dict)\n"
   ]
  },
  {
   "cell_type": "code",
   "execution_count": null,
   "metadata": {},
   "outputs": [],
   "source": []
  }
 ],
 "metadata": {
  "kernelspec": {
   "display_name": "py38",
   "language": "python",
   "name": "py38"
  },
  "language_info": {
   "codemirror_mode": {
    "name": "ipython",
    "version": 3
   },
   "file_extension": ".py",
   "mimetype": "text/x-python",
   "name": "python",
   "nbconvert_exporter": "python",
   "pygments_lexer": "ipython3",
   "version": "3.8.0"
  },
  "toc": {
   "base_numbering": 1,
   "nav_menu": {},
   "number_sections": true,
   "sideBar": true,
   "skip_h1_title": false,
   "title_cell": "Table of Contents",
   "title_sidebar": "Contents",
   "toc_cell": false,
   "toc_position": {},
   "toc_section_display": true,
   "toc_window_display": false
  },
  "varInspector": {
   "cols": {
    "lenName": 16,
    "lenType": 16,
    "lenVar": 40
   },
   "kernels_config": {
    "python": {
     "delete_cmd_postfix": "",
     "delete_cmd_prefix": "del ",
     "library": "var_list.py",
     "varRefreshCmd": "print(var_dic_list())"
    },
    "r": {
     "delete_cmd_postfix": ") ",
     "delete_cmd_prefix": "rm(",
     "library": "var_list.r",
     "varRefreshCmd": "cat(var_dic_list()) "
    }
   },
   "types_to_exclude": [
    "module",
    "function",
    "builtin_function_or_method",
    "instance",
    "_Feature"
   ],
   "window_display": false
  }
 },
 "nbformat": 4,
 "nbformat_minor": 2
}
