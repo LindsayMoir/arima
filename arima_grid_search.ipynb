{
 "cells": [
  {
   "cell_type": "markdown",
   "metadata": {},
   "source": [
    "This notebook grid searchs for the best model for ARIMA based on the dataset."
   ]
  },
  {
   "cell_type": "code",
   "execution_count": 8,
   "metadata": {},
   "outputs": [],
   "source": [
    "# import libraries\n",
    "\n",
    "# ARIMA libraries\n",
    "from math import sqrt\n",
    "from sklearn.metrics import mean_squared_error\n",
    "from statsmodels.tsa.arima_model import ARIMA\n",
    "from statsmodels.tsa.arima_model import ARIMAResults\n",
    "import warnings\n",
    "\n",
    "# Regular libraries\n",
    "import numpy as np\n",
    "import pandas as pd"
   ]
  },
  {
   "cell_type": "code",
   "execution_count": 9,
   "metadata": {},
   "outputs": [],
   "source": [
    "def evaluate_arima_model(X, arima_order):\n",
    "    \"\"\"evaluate an ARIMA model for a given order (p,d,q) and return RMSE\"\"\"    \n",
    "    \n",
    "    # prepare training dataset\n",
    "    X = X.astype('float32')\n",
    "    train_size = int(len(X) * 0.50)\n",
    "    train, test = X[0:train_size], X[train_size:]\n",
    "    history = [x for x in train]\n",
    "    \n",
    "    # make predictions\n",
    "    predictions = []\n",
    "    for t in range(len(test)):\n",
    "        model = ARIMA(history, order=arima_order)\n",
    "        \n",
    "        # fit model\n",
    "        try:\n",
    "            model_fit = model.fit(trend='nc', disp=0)\n",
    "            yhat = model_fit.forecast()[0]\n",
    "            predictions.append(yhat)\n",
    "            history.append(test[t])\n",
    "        except:\n",
    "            continue\n",
    "        \n",
    "    # calculate out of sample error\n",
    "    rmse = sqrt(mean_squared_error(test, predictions))\n",
    "    \n",
    "    return rmse\n"
   ]
  },
  {
   "cell_type": "code",
   "execution_count": 10,
   "metadata": {},
   "outputs": [],
   "source": [
    "def evaluate_models(dataset, p_values, d_values, q_values):\n",
    "    \"\"\"evaluate combinations of p, d and q values for an ARIMA model\"\"\"    \n",
    "    \n",
    "    dataset = dataset.astype('float32')\n",
    "    best_score, best_cfg = float(\"inf\"), None\n",
    "    for p in p_values:\n",
    "        for d in d_values:\n",
    "            for q in q_values:\n",
    "                order = (p,d,q)\n",
    "                try:\n",
    "                    rmse = evaluate_arima_model(dataset, order)\n",
    "                    if rmse < best_score:\n",
    "                        best_score, best_cfg = rmse, order\n",
    "                    print('ARIMA%s RMSE=%.3f' % (order,rmse))\n",
    "                except:\n",
    "                    continue\n",
    "                   \n",
    "    print('Best ARIMA%s RMSE=%.3f' % (best_cfg, best_score))\n",
    "    \n",
    "    return best_cfg\n"
   ]
  },
  {
   "cell_type": "code",
   "execution_count": 11,
   "metadata": {},
   "outputs": [],
   "source": [
    "def driver(df, arg_dict):\n",
    "    \"\"\"Driver program for finding best_cfg for ARIMA\"\"\"\n",
    "    # load dataset\n",
    "    series = df[arg_dict['dependent_variable']]\n",
    "\n",
    "    # evaluate parameters\n",
    "    p_values = arg_dict['p_values']\n",
    "    d_values = arg_dict['d_values']\n",
    "    q_values = arg_dict['q_values']\n",
    "    warnings.filterwarnings(\"ignore\")\n",
    "    best_cfg = evaluate_models(series.values, p_values, d_values, q_values)\n",
    "    \n",
    "    return best_cfg\n"
   ]
  },
  {
   "cell_type": "code",
   "execution_count": 12,
   "metadata": {},
   "outputs": [
    {
     "name": "stdout",
     "output_type": "stream",
     "text": [
      "ARIMA(0, 0, 1) RMSE=47.149\n",
      "ARIMA(0, 1, 1) RMSE=1.659\n",
      "ARIMA(0, 1, 2) RMSE=1.509\n",
      "ARIMA(0, 2, 1) RMSE=1.260\n",
      "ARIMA(0, 2, 2) RMSE=1.264\n",
      "ARIMA(1, 0, 0) RMSE=1.694\n",
      "ARIMA(1, 1, 0) RMSE=1.607\n",
      "ARIMA(1, 1, 1) RMSE=1.246\n",
      "ARIMA(1, 1, 2) RMSE=1.245\n",
      "ARIMA(1, 2, 0) RMSE=1.406\n",
      "ARIMA(1, 2, 1) RMSE=1.266\n",
      "ARIMA(2, 0, 0) RMSE=1.615\n",
      "ARIMA(2, 1, 0) RMSE=1.349\n",
      "ARIMA(2, 1, 1) RMSE=1.354\n",
      "ARIMA(2, 2, 0) RMSE=1.378\n",
      "ARIMA(2, 2, 1) RMSE=1.268\n",
      "Best ARIMA(1, 1, 2) RMSE=1.245\n"
     ]
    }
   ],
   "source": [
    "if __name__ == '__main__':\n",
    "    \n",
    "    \n",
    "    # Arguments for driver\n",
    "    arg_dict = {'file_name_1': r'data\\all_df.csv',\n",
    "                'file_name_2': r'C:\\Users\\linds\\OneDrive\\mystuff\\GitHub\\covid\\data\\country_codes_edited.csv',\n",
    "                'feature': 'Province_State',\n",
    "                'place': 'New York',\n",
    "                'dependent_variable': 'Deaths',\n",
    "                'path': r'C:\\Users\\linds\\OneDrive\\mystuff\\GitHub\\COVID-19\\csse_covid_19_data\\csse_covid_19_daily_reports',\n",
    "                'p_values': range(0,3),\n",
    "                'd_values': range(0,3),\n",
    "                'q_values': range(0,3),\n",
    "                'split_value': .5,\n",
    "                'bias': 0,\n",
    "                'date': '12-31-2020'}\n",
    "    \n",
    "    df = pd.read_csv('df.csv')\n",
    "    \n",
    "    # Start driver\n",
    "    best_cfg = driver(df, arg_dict)\n",
    "    "
   ]
  },
  {
   "cell_type": "code",
   "execution_count": null,
   "metadata": {},
   "outputs": [],
   "source": []
  }
 ],
 "metadata": {
  "kernelspec": {
   "display_name": "sklearn",
   "language": "python",
   "name": "sklearn"
  },
  "language_info": {
   "codemirror_mode": {
    "name": "ipython",
    "version": 3
   },
   "file_extension": ".py",
   "mimetype": "text/x-python",
   "name": "python",
   "nbconvert_exporter": "python",
   "pygments_lexer": "ipython3",
   "version": "3.6.3"
  }
 },
 "nbformat": 4,
 "nbformat_minor": 2
}
