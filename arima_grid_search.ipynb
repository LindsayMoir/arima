{
 "cells": [
  {
   "cell_type": "markdown",
   "metadata": {},
   "source": [
    "This notebook grid searchs for the best model for ARIMA based on the dataset."
   ]
  },
  {
   "cell_type": "code",
   "execution_count": 193,
   "metadata": {},
   "outputs": [],
   "source": [
    "# import libraries\n",
    "\n",
    "# ARIMA libraries\n",
    "from math import sqrt\n",
    "from sklearn.metrics import mean_squared_error\n",
    "from statsmodels.tsa.arima_model import ARIMA\n",
    "from statsmodels.tsa.arima_model import ARIMAResults\n",
    "import warnings\n",
    "\n",
    "# Regular libraries\n",
    "import numpy as np\n",
    "import pandas as pd"
   ]
  },
  {
   "cell_type": "code",
   "execution_count": 194,
   "metadata": {},
   "outputs": [],
   "source": [
    "def evaluate_arima_model(X, arima_order):\n",
    "    \"\"\"evaluate an ARIMA model for a given order (p,d,q) and return RMSE\"\"\"    \n",
    "    \n",
    "    # prepare training dataset\n",
    "    X = X.astype('float32')\n",
    "    train_size = int(len(X) * 0.50)\n",
    "    train, test = X[0:train_size], X[train_size:]\n",
    "    history = [x for x in train]\n",
    "    \n",
    "    # make predictions\n",
    "    predictions = []\n",
    "    for t in range(len(test)):\n",
    "        model = ARIMA(history, order=arima_order)\n",
    "        \n",
    "        # fit model\n",
    "        try:\n",
    "            model_fit = model.fit(trend='nc', disp=0)\n",
    "            yhat = model_fit.forecast()[0]\n",
    "            predictions.append(yhat)\n",
    "            history.append(test[t])\n",
    "        except:\n",
    "            continue\n",
    "        \n",
    "    # calculate out of sample error\n",
    "    rmse = sqrt(mean_squared_error(test, predictions))\n",
    "    \n",
    "    return rmse\n"
   ]
  },
  {
   "cell_type": "code",
   "execution_count": 195,
   "metadata": {},
   "outputs": [],
   "source": [
    "def evaluate_models(dataset, p_values, d_values, q_values):\n",
    "    \"\"\"evaluate combinations of p, d and q values for an ARIMA model\"\"\"    \n",
    "    \n",
    "    dataset = dataset.astype('float32')\n",
    "    rmse_list = []\n",
    "\n",
    "    for p in p_values:\n",
    "        for d in d_values:\n",
    "            for q in q_values:\n",
    "                order = (p,d,q)\n",
    "                try:\n",
    "                    rmse = evaluate_arima_model(dataset, order)\n",
    "                    rmse_list.append((rmse, order))\n",
    "                    print('RMSE is', round(rmse,3), 'with ARIMA of', order)\n",
    "                except:\n",
    "                    continue\n",
    "    \n",
    "    # Sort the RMSEs\n",
    "    rmse_list.sort(key=lambda tup: tup[0])\n",
    "    \n",
    "    print('\\nBest RMSE Score is {} with ARIMA of {}'.format(round(rmse_list[0][0],3), \n",
    "                                                                      rmse_list[0][1]))\n",
    "    \n",
    "    # We just need the order, not the RMSE\n",
    "    order_list = [item[1] for item in rmse_list]\n",
    "\n",
    "    return order_list\n"
   ]
  },
  {
   "cell_type": "code",
   "execution_count": 196,
   "metadata": {},
   "outputs": [],
   "source": [
    "def driver(df, arg_dict):\n",
    "    \"\"\"Driver program for finding best_cfg for ARIMA. Returned as a sorted list of all results\"\"\"\n",
    "    # load dataset\n",
    "    series = df[arg_dict['dependent_variable']]\n",
    "\n",
    "    # evaluate parameters\n",
    "    p_values = arg_dict['p_values']\n",
    "    d_values = arg_dict['d_values']\n",
    "    q_values = arg_dict['q_values']\n",
    "    warnings.filterwarnings(\"ignore\")\n",
    "    order_list = evaluate_models(series.values, p_values, d_values, q_values)\n",
    "    \n",
    "    return order_list\n"
   ]
  },
  {
   "cell_type": "code",
   "execution_count": 197,
   "metadata": {},
   "outputs": [
    {
     "name": "stdout",
     "output_type": "stream",
     "text": [
      "RMSE is 1401953.839 with ARIMA of (0, 0, 1)\n",
      "RMSE is 23304.051 with ARIMA of (0, 1, 1)\n",
      "RMSE is 43208.792 with ARIMA of (1, 0, 0)\n",
      "RMSE is 4703.843 with ARIMA of (1, 1, 0)\n",
      "\n",
      "Best RMSE Score is 4703.843 with ARIMA of (1, 1, 0)\n"
     ]
    }
   ],
   "source": [
    "if __name__ == '__main__':\n",
    "    \n",
    "    \n",
    "    # Arguments for driver\n",
    "    arg_dict = {'file_name_1': r'data\\all_df.csv',\n",
    "                'file_name_2': r'C:\\Users\\linds\\OneDrive\\mystuff\\GitHub\\covid\\data\\country_codes_edited.csv',\n",
    "                'feature': 'Alpha_3',\n",
    "                'place': 'USA',\n",
    "                'dependent_variable': 'Confirmed',\n",
    "                'path': r'C:\\Users\\linds\\OneDrive\\mystuff\\GitHub\\COVID-19\\csse_covid_19_data\\csse_covid_19_daily_reports',\n",
    "                'p_values': range(0,2),\n",
    "                'd_values': range(0,2),\n",
    "                'q_values': range(0,2),\n",
    "                'split_value': .5,\n",
    "                'bias': 0,\n",
    "                'date': '12-31-2020'}\n",
    "    \n",
    "    df = pd.read_csv('df.csv')\n",
    "    \n",
    "    # Start driver\n",
    "    order_list = driver(df, arg_dict)\n"
   ]
  },
  {
   "cell_type": "code",
   "execution_count": null,
   "metadata": {},
   "outputs": [],
   "source": []
  }
 ],
 "metadata": {
  "kernelspec": {
   "display_name": "py38",
   "language": "python",
   "name": "py38"
  },
  "language_info": {
   "codemirror_mode": {
    "name": "ipython",
    "version": 3
   },
   "file_extension": ".py",
   "mimetype": "text/x-python",
   "name": "python",
   "nbconvert_exporter": "python",
   "pygments_lexer": "ipython3",
   "version": "3.8.0"
  },
  "toc": {
   "base_numbering": 1,
   "nav_menu": {},
   "number_sections": true,
   "sideBar": true,
   "skip_h1_title": false,
   "title_cell": "Table of Contents",
   "title_sidebar": "Contents",
   "toc_cell": false,
   "toc_position": {},
   "toc_section_display": true,
   "toc_window_display": false
  }
 },
 "nbformat": 4,
 "nbformat_minor": 2
}
