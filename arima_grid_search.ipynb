{
 "cells": [
  {
   "cell_type": "markdown",
   "metadata": {},
   "source": [
    "This notebook grid searchs for the best model for ARIMA based on the dataset."
   ]
  },
  {
   "cell_type": "code",
   "execution_count": 2,
   "metadata": {},
   "outputs": [],
   "source": [
    "# import libraries\n",
    "\n",
    "# ARIMA libraries\n",
    "from math import sqrt\n",
    "from sklearn.metrics import mean_squared_error\n",
    "from statsmodels.tsa.arima_model import ARIMA\n",
    "from statsmodels.tsa.arima_model import ARIMAResults\n",
    "import warnings\n",
    "\n",
    "# Regular libraries\n",
    "import numpy as np\n",
    "import pandas as pd"
   ]
  },
  {
   "cell_type": "code",
   "execution_count": 3,
   "metadata": {},
   "outputs": [],
   "source": [
    "def evaluate_arima_model(X, arima_order):\n",
    "    \"\"\"evaluate an ARIMA model for a given order (p,d,q) and return RMSE\"\"\"    \n",
    "    \n",
    "    # prepare training dataset\n",
    "    X = X.astype('float32')\n",
    "    train_size = int(len(X) * 0.50)\n",
    "    train, test = X[0:train_size], X[train_size:]\n",
    "    history = [x for x in train]\n",
    "    \n",
    "    # make predictions\n",
    "    predictions = []\n",
    "    for t in range(len(test)):\n",
    "        model = ARIMA(history, order=arima_order)\n",
    "        \n",
    "        # fit model\n",
    "        try:\n",
    "            model_fit = model.fit(trend='nc', disp=0)\n",
    "            yhat = model_fit.forecast()[0]\n",
    "            predictions.append(yhat)\n",
    "            history.append(test[t])\n",
    "        except:\n",
    "            continue\n",
    "        \n",
    "    # calculate out of sample error\n",
    "    rmse = sqrt(mean_squared_error(test, predictions))\n",
    "    \n",
    "    return rmse\n"
   ]
  },
  {
   "cell_type": "code",
   "execution_count": 4,
   "metadata": {},
   "outputs": [],
   "source": [
    "def evaluate_models(dataset, p_values, d_values, q_values):\n",
    "    \"\"\"evaluate combinations of p, d and q values for an ARIMA model\"\"\"    \n",
    "    \n",
    "    dataset = dataset.astype('float32')\n",
    "    best_score, best_cfg = float(\"inf\"), None\n",
    "    for p in p_values:\n",
    "        for d in d_values:\n",
    "            for q in q_values:\n",
    "                order = (p,d,q)\n",
    "                try:\n",
    "                    rmse = evaluate_arima_model(dataset, order)\n",
    "                    if rmse < best_score:\n",
    "                        best_score, best_cfg = rmse, order\n",
    "                    print('ARIMA%s RMSE=%.3f' % (order,rmse))\n",
    "                except:\n",
    "                    continue\n",
    "                   \n",
    "    print('Best ARIMA%s RMSE=%.3f' % (best_cfg, best_score))\n",
    "    \n",
    "    return best_cfg\n"
   ]
  },
  {
   "cell_type": "code",
   "execution_count": 5,
   "metadata": {},
   "outputs": [],
   "source": [
    "def driver(df, arg_dict):\n",
    "    \"\"\"Driver program for finding best_cfg for ARIMA\"\"\"\n",
    "    # load dataset\n",
    "    series = df[arg_dict['dependent_variable']]\n",
    "\n",
    "    # evaluate parameters\n",
    "    p_values = range(0, 8)\n",
    "    d_values = range(0, 3)\n",
    "    q_values = range(0, 3)\n",
    "    warnings.filterwarnings(\"ignore\")\n",
    "    best_cfg = evaluate_models(series.values, p_values, d_values, q_values)\n",
    "    \n",
    "    return best_cfg\n"
   ]
  },
  {
   "cell_type": "code",
   "execution_count": 7,
   "metadata": {},
   "outputs": [
    {
     "name": "stdout",
     "output_type": "stream",
     "text": [
      "ARIMA(0, 0, 1) RMSE=27626.451\n",
      "ARIMA(0, 1, 1) RMSE=1385.447\n",
      "ARIMA(0, 2, 1) RMSE=730.051\n",
      "ARIMA(0, 2, 2) RMSE=833.037\n",
      "ARIMA(1, 0, 0) RMSE=2099.439\n",
      "ARIMA(1, 1, 0) RMSE=710.445\n",
      "ARIMA(1, 2, 0) RMSE=741.633\n",
      "ARIMA(1, 2, 1) RMSE=767.719\n",
      "ARIMA(2, 1, 0) RMSE=741.120\n",
      "ARIMA(2, 2, 0) RMSE=892.689\n",
      "ARIMA(3, 2, 0) RMSE=863.131\n",
      "ARIMA(4, 2, 0) RMSE=845.462\n",
      "ARIMA(5, 2, 0) RMSE=867.749\n",
      "ARIMA(6, 2, 0) RMSE=901.479\n",
      "Best ARIMA(1, 1, 0) RMSE=710.445\n"
     ]
    }
   ],
   "source": [
    "if __name__ == '__main__':\n",
    "    \n",
    "    # Prepare arguments for driver\n",
    "    arg_dict = {'file_name_1': r'data\\all_df.csv',\n",
    "                'file_name_2': r'C:\\Users\\linds\\OneDrive\\mystuff\\GitHub\\covid\\data\\country_codes_edited.csv',\n",
    "                'feature': 'Alpha_3',\n",
    "                'place': 'USA',\n",
    "                'dependent_variable': 'Deaths'}\n",
    "    \n",
    "    df = pd.read_csv('df.csv')\n",
    "    \n",
    "    # Start driver\n",
    "    best_cfg = driver(df, arg_dict)\n",
    "    "
   ]
  },
  {
   "cell_type": "code",
   "execution_count": null,
   "metadata": {},
   "outputs": [],
   "source": []
  }
 ],
 "metadata": {
  "kernelspec": {
   "display_name": "sklearn",
   "language": "python",
   "name": "sklearn"
  },
  "language_info": {
   "codemirror_mode": {
    "name": "ipython",
    "version": 3
   },
   "file_extension": ".py",
   "mimetype": "text/x-python",
   "name": "python",
   "nbconvert_exporter": "python",
   "pygments_lexer": "ipython3",
   "version": "3.6.3"
  }
 },
 "nbformat": 4,
 "nbformat_minor": 2
}
