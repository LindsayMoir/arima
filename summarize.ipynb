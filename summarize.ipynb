{
 "cells": [
  {
   "cell_type": "markdown",
   "metadata": {},
   "source": [
    "Summarize residual errors for an ARIMA model"
   ]
  },
  {
   "cell_type": "code",
   "execution_count": 1,
   "metadata": {},
   "outputs": [],
   "source": [
    "# import libraries\n",
    "\n",
    "from math import sqrt\n",
    "import matplotlib.pyplot as plt \n",
    "plt.rcParams['figure.figsize'] = (12,8)\n",
    "import numpy as np\n",
    "import pandas as pd\n",
    "import pickle\n",
    "from sklearn.metrics import mean_squared_error\n",
    "from statsmodels.tsa.arima_model import ARIMA\n",
    "import warnings"
   ]
  },
  {
   "cell_type": "code",
   "execution_count": 2,
   "metadata": {},
   "outputs": [],
   "source": [
    "def load_prepare(df, arg_dict):\n",
    "    \"\"\"Load and prepare the data for train text split\"\"\"\n",
    "    \n",
    "    # load data\n",
    "    series = df[arg_dict['dependent_variable']]\n",
    "    \n",
    "    # prepare data\n",
    "    X = series.values\n",
    "    X = X.astype('float32')\n",
    "    \n",
    "    return X\n"
   ]
  },
  {
   "cell_type": "code",
   "execution_count": 3,
   "metadata": {},
   "outputs": [],
   "source": [
    "def train_test_spit(X, arg_dict):\n",
    "    \"\"\"Split into train and test\"\"\"\n",
    "    \n",
    "    train_size = int(len(X) * arg_dict['split_value'])\n",
    "    train, test = X[0:train_size], X[train_size:]\n",
    "    \n",
    "    return train, test\n"
   ]
  },
  {
   "cell_type": "code",
   "execution_count": 4,
   "metadata": {},
   "outputs": [],
   "source": [
    "def walk_forward_validation(train, test, arg_dict):\n",
    "    \"\"\"walk-forward validation\"\"\"\n",
    "\n",
    "    history = [x for x in train]\n",
    "    predictions = []\n",
    "    bias = arg_dict['bias']\n",
    "    for i in range(len(test)):\n",
    "\n",
    "        # predict\n",
    "        warnings.filterwarnings(\"ignore\")\n",
    "        model = ARIMA(history, order=arg_dict['best_cfg'])\n",
    "        model_fit = model.fit(trend='nc', disp=0)\n",
    "        yhat = bias + model_fit.forecast()[0]\n",
    "        predictions.append(yhat)\n",
    "\n",
    "        # observation\n",
    "        obs = test[i]\n",
    "        history.append(obs)\n",
    "        \n",
    "    return model_fit, predictions, history\n"
   ]
  },
  {
   "cell_type": "code",
   "execution_count": 5,
   "metadata": {},
   "outputs": [],
   "source": [
    "def errors(test, predictions):\n",
    "    \"\"\"Calculate the errors that occurred between actual and predicted\"\"\"\n",
    "    \n",
    "    # report performance\n",
    "    rmse = sqrt(mean_squared_error(test, predictions))\n",
    "    print('\\nRMSE: %.3f' % rmse)\n",
    "    \n",
    "    # calculate residual errors\n",
    "    residuals = [test[i]-predictions[i] for i in range(len(test))]\n",
    "    residuals = pd.DataFrame(residuals)\n",
    "    residuals = residuals.rename({0: 'Residual Statistics'}, axis=1)\n",
    "    print(residuals.describe())\n",
    "    \n",
    "    return residuals\n"
   ]
  },
  {
   "cell_type": "code",
   "execution_count": 6,
   "metadata": {},
   "outputs": [],
   "source": [
    "def plot_residuals(residuals):\n",
    "    \"\"\"Plot the residuals (histogram and kde)\"\"\"\n",
    "    \n",
    "    plt.figure()\n",
    "    plt.subplot(211)\n",
    "    residuals.hist(ax=plt.gca())\n",
    "    \n",
    "    plt.subplot(212)\n",
    "    residuals.plot(kind='kde', ax=plt.gca())\n",
    "    plt.show();\n",
    "    "
   ]
  },
  {
   "cell_type": "code",
   "execution_count": 7,
   "metadata": {},
   "outputs": [],
   "source": [
    "def calc_bias(arg_dict, residuals):\n",
    "    \"\"\"Save the bias for a subsequent run\"\"\"\n",
    "    \n",
    "    # Get bias\n",
    "    bias = residuals.describe()\n",
    "    bias = bias.iloc[1][0]\n",
    "    \n",
    "    # Print appropriate message\n",
    "    if arg_dict['bias'] == 0:\n",
    "        arg_dict.update({'bias': bias})\n",
    "        print('\\nbias IS saved in arg_dict[\"bias\"] for subsequent run is:', bias, '\\n')\n",
    "    else:\n",
    "        print('\\nbias NOT saved in arg_dict[\"bias\"] for subsequent run is:', bias, '\\n')\n",
    "    "
   ]
  },
  {
   "cell_type": "code",
   "execution_count": 8,
   "metadata": {},
   "outputs": [],
   "source": [
    "def driver(df, arg_dict):\n",
    "    \"\"\"Driver program\"\"\"\n",
    "\n",
    "    # Get an array of the dependent variable values\n",
    "    X = load_prepare(df, arg_dict)\n",
    "    \n",
    "    # Train test split (time series)\n",
    "    train, test = train_test_spit(X, arg_dict)\n",
    "\n",
    "    # walk-forward validation\n",
    "    model_fit, predictions, history = walk_forward_validation(train, test, arg_dict)\n",
    "    \n",
    "    # Calculate the errors that occurred between actual and predicted\n",
    "    residuals = errors(test, predictions)\n",
    "    \n",
    "    # plot the historgrams\n",
    "    plot_residuals(residuals)\n",
    "    \n",
    "    # Save the bias for a subsequent run\n",
    "    calc_bias(arg_dict, residuals)\n",
    "    \n",
    "    return model_fit, test, predictions\n"
   ]
  },
  {
   "cell_type": "code",
   "execution_count": 9,
   "metadata": {
    "scrolled": false
   },
   "outputs": [
    {
     "name": "stdout",
     "output_type": "stream",
     "text": [
      "RMSE: 389.045\n",
      "       Residual Statistics\n",
      "count         6.100000e+01\n",
      "mean          2.862672e-12\n",
      "std           3.922741e+02\n",
      "min          -1.282840e+03\n",
      "25%          -2.049118e+02\n",
      "50%           5.619400e+00\n",
      "75%           1.520731e+02\n",
      "max           1.795574e+03\n"
     ]
    },
    {
     "data": {
      "image/png": "[encoded data removed]",
      "text/plain": [
       "<Figure size 864x576 with 2 Axes>"
      ]
     },
     "metadata": {
      "needs_background": "light"
     },
     "output_type": "display_data"
    },
    {
     "name": "stdout",
     "output_type": "stream",
     "text": [
      "\n",
      "bias NOT saved in arg_dict[\"bias\"] for subsequent run is: 2.862671848203315e-12 \n",
      "\n"
     ]
    }
   ],
   "source": [
    "if __name__ == '__main__':\n",
    "    \n",
    "    # Prepare arguments for driver\n",
    "    with open('arg_dict.pickle', 'rb') as handle:\n",
    "        arg_dict = pickle.load(handle)\n",
    "    \n",
    "    df = pd.read_csv('df.csv')\n",
    "    \n",
    "    # Start driver\n",
    "    model_fit, test, predictions = driver(df, arg_dict) \n",
    "    "
   ]
  },
  {
   "cell_type": "code",
   "execution_count": null,
   "metadata": {},
   "outputs": [],
   "source": []
  }
 ],
 "metadata": {
  "kernelspec": {
   "display_name": "py38",
   "language": "python",
   "name": "py38"
  },
  "language_info": {
   "codemirror_mode": {
    "name": "ipython",
    "version": 3
   },
   "file_extension": ".py",
   "mimetype": "text/x-python",
   "name": "python",
   "nbconvert_exporter": "python",
   "pygments_lexer": "ipython3",
   "version": "3.8.0"
  },
  "toc": {
   "base_numbering": 1,
   "nav_menu": {},
   "number_sections": true,
   "sideBar": true,
   "skip_h1_title": false,
   "title_cell": "Table of Contents",
   "title_sidebar": "Contents",
   "toc_cell": false,
   "toc_position": {},
   "toc_section_display": true,
   "toc_window_display": false
  }
 },
 "nbformat": 4,
 "nbformat_minor": 2
}
