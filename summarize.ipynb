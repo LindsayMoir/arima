{
 "cells": [
  {
   "cell_type": "markdown",
   "metadata": {},
   "source": [
    "Summarize residual errors for an ARIMA model"
   ]
  },
  {
   "cell_type": "code",
   "execution_count": 29,
   "metadata": {},
   "outputs": [],
   "source": [
    "# import libraries\n",
    "\n",
    "from math import sqrt\n",
    "import matplotlib.pyplot as plt \n",
    "plt.rcParams['figure.figsize'] = (12,8)\n",
    "import numpy as np\n",
    "import pandas as pd\n",
    "import pickle\n",
    "from sklearn.metrics import mean_squared_error\n",
    "from statsmodels.tsa.arima_model import ARIMA\n",
    "import warnings"
   ]
  },
  {
   "cell_type": "code",
   "execution_count": 21,
   "metadata": {},
   "outputs": [],
   "source": [
    "def load_prepare(df, arg_dict):\n",
    "    \"\"\"Load and prepare the data for train text split\"\"\"\n",
    "    \n",
    "    # load data\n",
    "    series = df[arg_dict['dependent_variable']]\n",
    "    \n",
    "    # prepare data\n",
    "    X = series.values\n",
    "    X = X.astype('float32')\n",
    "    \n",
    "    return X\n"
   ]
  },
  {
   "cell_type": "code",
   "execution_count": 22,
   "metadata": {},
   "outputs": [],
   "source": [
    "def train_test_spit(X, arg_dict):\n",
    "    \"\"\"Split into train and test\"\"\"\n",
    "    \n",
    "    train_size = int(len(X) * arg_dict['split_value'])\n",
    "    train, test = X[0:train_size], X[train_size:]\n",
    "    \n",
    "    return train, test\n"
   ]
  },
  {
   "cell_type": "code",
   "execution_count": 23,
   "metadata": {},
   "outputs": [],
   "source": [
    "def walk_forward_validation(train, test, arg_dict):\n",
    "    \"\"\"walk-forward validation\"\"\"\n",
    "\n",
    "    history = [x for x in train]\n",
    "    predictions = []\n",
    "    bias = arg_dict['bias']\n",
    "    for i in range(len(test)):\n",
    "\n",
    "        # predict\n",
    "        warnings.filterwarnings(\"ignore\")\n",
    "        model = ARIMA(history, order=arg_dict['best_cfg'])\n",
    "        model_fit = model.fit(trend='nc', disp=0)\n",
    "        yhat = bias + model_fit.forecast()[0]\n",
    "        predictions.append(yhat)\n",
    "\n",
    "        # observation\n",
    "        obs = test[i]\n",
    "        history.append(obs)\n",
    "        \n",
    "    return predictions, history, model_fit\n"
   ]
  },
  {
   "cell_type": "code",
   "execution_count": 24,
   "metadata": {},
   "outputs": [],
   "source": [
    "def errors(test, predictions):\n",
    "    \"\"\"Calculate the errors that occurred between actual and predicted\"\"\"\n",
    "    \n",
    "    # report performance\n",
    "    rmse = sqrt(mean_squared_error(test, predictions))\n",
    "    print('RMSE: %.3f' % rmse)\n",
    "    \n",
    "    # calculate residual errors\n",
    "    residuals = [test[i]-predictions[i] for i in range(len(test))]\n",
    "    residuals = pd.DataFrame(residuals)\n",
    "    print(residuals.describe())\n",
    "    \n",
    "    return residuals\n"
   ]
  },
  {
   "cell_type": "code",
   "execution_count": 25,
   "metadata": {},
   "outputs": [],
   "source": [
    "def plot_residuals(residuals):\n",
    "    \"\"\"Plot the residuals (histogram and kde)\"\"\"\n",
    "    \n",
    "    plt.figure()\n",
    "    plt.subplot(211)\n",
    "    residuals.hist(ax=plt.gca())\n",
    "    \n",
    "    plt.subplot(212)\n",
    "    residuals.plot(kind='kde', ax=plt.gca())\n",
    "    plt.show();\n",
    "    "
   ]
  },
  {
   "cell_type": "code",
   "execution_count": 26,
   "metadata": {},
   "outputs": [],
   "source": [
    "def calc_bias(residuals):\n",
    "    \"\"\"Save the bias for a subsequent run\"\"\"\n",
    "    \n",
    "    bias = residuals.describe()\n",
    "    bias = bias.iloc[1][0]\n",
    "    \n",
    "    print('\\nbias saved in arg_dict[\"bias\"] for subsequent run is:', bias, '\\n')\n",
    "    \n",
    "    return bias"
   ]
  },
  {
   "cell_type": "code",
   "execution_count": 27,
   "metadata": {},
   "outputs": [],
   "source": [
    "def driver(df, arg_dict):\n",
    "    \"\"\"Driver program\"\"\"\n",
    "\n",
    "    # Get an array of the dependent variable values\n",
    "    X = load_prepare(df, arg_dict)\n",
    "    \n",
    "    # Train test split (time series)\n",
    "    train, test = train_test_spit(X, arg_dict)\n",
    "\n",
    "    # walk-forward validation\n",
    "    predictions, history, model_fit = walk_forward_validation(train, test, arg_dict)\n",
    "    \n",
    "    # Calculate the errors that occurred between actual and predicted\n",
    "    residuals = errors(test, predictions)\n",
    "    \n",
    "    # plot the historgrams\n",
    "    plot_residuals(residuals)\n",
    "    \n",
    "    # Save the bias for a subsequent run\n",
    "    bias = calc_bias(residuals)\n",
    "    \n",
    "    return bias, test, predictions, model_fit\n"
   ]
  },
  {
   "cell_type": "code",
   "execution_count": 28,
   "metadata": {
    "scrolled": false
   },
   "outputs": [
    {
     "name": "stdout",
     "output_type": "stream",
     "text": [
      "RMSE: 2099.439\n",
      "                 0\n",
      "count    38.000000\n",
      "mean   1970.944029\n",
      "std     732.912170\n",
      "min     731.000129\n",
      "25%    1524.396863\n",
      "50%    1925.036583\n",
      "75%    2201.322139\n",
      "max    4591.000141\n"
     ]
    },
    {
     "data": {
      "image/png": "[encoded data removed]",
      "text/plain": [
       "<Figure size 864x576 with 2 Axes>"
      ]
     },
     "metadata": {
      "needs_background": "light"
     },
     "output_type": "display_data"
    },
    {
     "name": "stdout",
     "output_type": "stream",
     "text": [
      "\n",
      "bias saved in arg_dict[\"bias\"] for subsequent run is: 1970.9440287940276 \n",
      "\n"
     ]
    }
   ],
   "source": [
    "if __name__ == '__main__':\n",
    "    \n",
    "    # Prepare arguments for driver\n",
    "    with open('filename.pickle', 'rb') as handle:\n",
    "        arg_dict = pickle.load(handle)\n",
    "    \n",
    "    df = pd.read_csv('df.csv')\n",
    "    \n",
    "    # Start driver\n",
    "    bias, test, predictions, model_fit = driver(df, arg_dict) \n",
    "    "
   ]
  },
  {
   "cell_type": "code",
   "execution_count": null,
   "metadata": {},
   "outputs": [],
   "source": []
  }
 ],
 "metadata": {
  "kernelspec": {
   "display_name": "sklearn",
   "language": "python",
   "name": "sklearn"
  },
  "language_info": {
   "codemirror_mode": {
    "name": "ipython",
    "version": 3
   },
   "file_extension": ".py",
   "mimetype": "text/x-python",
   "name": "python",
   "nbconvert_exporter": "python",
   "pygments_lexer": "ipython3",
   "version": "3.6.3"
  }
 },
 "nbformat": 4,
 "nbformat_minor": 2
}
