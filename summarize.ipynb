{
 "cells": [
  {
   "cell_type": "markdown",
   "metadata": {},
   "source": [
    "Summarize residual errors for an ARIMA model"
   ]
  },
  {
   "cell_type": "code",
   "execution_count": 37,
   "metadata": {},
   "outputs": [],
   "source": [
    "# import libraries\n",
    "\n",
    "from math import sqrt\n",
    "import matplotlib.pyplot as plt \n",
    "plt.rcParams['figure.figsize'] = (12,8)\n",
    "import numpy as np\n",
    "import pandas as pd\n",
    "import pickle\n",
    "from sklearn.metrics import mean_squared_error\n",
    "from statsmodels.tsa.arima_model import ARIMA\n",
    "import warnings"
   ]
  },
  {
   "cell_type": "code",
   "execution_count": 38,
   "metadata": {},
   "outputs": [],
   "source": [
    "def load_prepare(df, arg_dict):\n",
    "    \"\"\"Load and prepare the data for train text split\"\"\"\n",
    "    \n",
    "    # load data\n",
    "    series = df[arg_dict['dependent_variable']]\n",
    "    \n",
    "    # prepare data\n",
    "    X = series.values\n",
    "    X = X.astype('float32')\n",
    "    \n",
    "    return X\n"
   ]
  },
  {
   "cell_type": "code",
   "execution_count": 39,
   "metadata": {},
   "outputs": [],
   "source": [
    "def train_test_spit(X, arg_dict):\n",
    "    \"\"\"Split into train and test\"\"\"\n",
    "    \n",
    "    train_size = int(len(X) * arg_dict['split_value'])\n",
    "    train, test = X[0:train_size], X[train_size:]\n",
    "    \n",
    "    return train, test\n"
   ]
  },
  {
   "cell_type": "code",
   "execution_count": 40,
   "metadata": {},
   "outputs": [],
   "source": [
    "def walk_forward_validation(train, test, arg_dict):\n",
    "    \"\"\"walk-forward validation\"\"\"\n",
    "\n",
    "    history = [x for x in train]\n",
    "    predictions = []\n",
    "    bias = arg_dict['bias']\n",
    "    for i in range(len(test)):\n",
    "\n",
    "        # predict\n",
    "        warnings.filterwarnings(\"ignore\")\n",
    "        model = ARIMA(history, order=arg_dict['best_cfg'])\n",
    "        model_fit = model.fit(trend='nc', disp=0)\n",
    "        yhat = bias + model_fit.forecast()[0]\n",
    "        predictions.append(yhat)\n",
    "\n",
    "        # observation\n",
    "        obs = test[i]\n",
    "        history.append(obs)\n",
    "        \n",
    "    return model_fit, predictions, history\n"
   ]
  },
  {
   "cell_type": "code",
   "execution_count": 41,
   "metadata": {},
   "outputs": [],
   "source": [
    "def errors(test, predictions):\n",
    "    \"\"\"Calculate the errors that occurred between actual and predicted\"\"\"\n",
    "    \n",
    "    # report performance\n",
    "    rmse = sqrt(mean_squared_error(test, predictions))\n",
    "    print('RMSE: %.3f' % rmse)\n",
    "    \n",
    "    # calculate residual errors\n",
    "    residuals = [test[i]-predictions[i] for i in range(len(test))]\n",
    "    residuals = pd.DataFrame(residuals)\n",
    "    print(residuals.describe())\n",
    "    \n",
    "    return residuals\n"
   ]
  },
  {
   "cell_type": "code",
   "execution_count": 42,
   "metadata": {},
   "outputs": [],
   "source": [
    "def plot_residuals(residuals):\n",
    "    \"\"\"Plot the residuals (histogram and kde)\"\"\"\n",
    "    \n",
    "    plt.figure()\n",
    "    plt.subplot(211)\n",
    "    residuals.hist(ax=plt.gca())\n",
    "    \n",
    "    plt.subplot(212)\n",
    "    residuals.plot(kind='kde', ax=plt.gca())\n",
    "    plt.show();\n",
    "    "
   ]
  },
  {
   "cell_type": "code",
   "execution_count": 43,
   "metadata": {},
   "outputs": [],
   "source": [
    "def calc_bias(arg_dict, residuals):\n",
    "    \"\"\"Save the bias for a subsequent run\"\"\"\n",
    "    \n",
    "    # Get bias\n",
    "    bias = residuals.describe()\n",
    "    bias = bias.iloc[1][0]\n",
    "    \n",
    "    # Print appropriate message\n",
    "    if arg_dict['bias'] == 0:\n",
    "        arg_dict.update({'bias': bias})\n",
    "        print('\\nbias IS saved in arg_dict[\"bias\"] for subsequent run is:', bias, '\\n')\n",
    "    else:\n",
    "        print('\\nbias NOT saved in arg_dict[\"bias\"] for subsequent run is:', bias, '\\n')\n",
    "    "
   ]
  },
  {
   "cell_type": "code",
   "execution_count": 44,
   "metadata": {},
   "outputs": [],
   "source": [
    "def driver(df, arg_dict):\n",
    "    \"\"\"Driver program\"\"\"\n",
    "\n",
    "    # Get an array of the dependent variable values\n",
    "    X = load_prepare(df, arg_dict)\n",
    "    \n",
    "    # Train test split (time series)\n",
    "    train, test = train_test_spit(X, arg_dict)\n",
    "\n",
    "    # walk-forward validation\n",
    "    model_fit, predictions, history = walk_forward_validation(train, test, arg_dict)\n",
    "    \n",
    "    # Calculate the errors that occurred between actual and predicted\n",
    "    residuals = errors(test, predictions)\n",
    "    \n",
    "    # plot the historgrams\n",
    "    plot_residuals(residuals)\n",
    "    \n",
    "    # Save the bias for a subsequent run\n",
    "    calc_bias(arg_dict, residuals)\n",
    "    \n",
    "    return model_fit, test, predictions\n"
   ]
  },
  {
   "cell_type": "code",
   "execution_count": 45,
   "metadata": {
    "scrolled": false
   },
   "outputs": [
    {
     "name": "stdout",
     "output_type": "stream",
     "text": [
      "RMSE: 264.393\n",
      "                  0\n",
      "count  4.800000e+01\n",
      "mean   8.715991e-13\n",
      "std    2.671905e+02\n",
      "min   -6.480247e+02\n",
      "25%   -1.180788e+02\n",
      "50%   -4.050938e+01\n",
      "75%    1.161902e+02\n",
      "max    7.888356e+02\n"
     ]
    },
    {
     "data": {
      "image/png": "[encoded data removed]",
      "text/plain": [
       "<Figure size 864x576 with 2 Axes>"
      ]
     },
     "metadata": {
      "needs_background": "light"
     },
     "output_type": "display_data"
    },
    {
     "name": "stdout",
     "output_type": "stream",
     "text": [
      "\n",
      "bias NOT saved in arg_dict[\"bias\"] for subsequent run is: 8.715990891990563e-13 \n",
      "\n"
     ]
    }
   ],
   "source": [
    "if __name__ == '__main__':\n",
    "    \n",
    "    # Prepare arguments for driver\n",
    "    with open('arg_dict.pickle', 'rb') as handle:\n",
    "        arg_dict = pickle.load(handle)\n",
    "    \n",
    "    df = pd.read_csv('df.csv')\n",
    "    \n",
    "    # Start driver\n",
    "    model_fit, test, predictions = driver(df, arg_dict) \n",
    "    "
   ]
  },
  {
   "cell_type": "code",
   "execution_count": null,
   "metadata": {},
   "outputs": [],
   "source": []
  }
 ],
 "metadata": {
  "kernelspec": {
   "display_name": "sklearn",
   "language": "python",
   "name": "sklearn"
  },
  "language_info": {
   "codemirror_mode": {
    "name": "ipython",
    "version": 3
   },
   "file_extension": ".py",
   "mimetype": "text/x-python",
   "name": "python",
   "nbconvert_exporter": "python",
   "pygments_lexer": "ipython3",
   "version": "3.6.3"
  }
 },
 "nbformat": 4,
 "nbformat_minor": 2
}
