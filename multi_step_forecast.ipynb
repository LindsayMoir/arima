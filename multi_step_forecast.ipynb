{
 "cells": [
  {
   "cell_type": "markdown",
   "metadata": {},
   "source": [
    "Multi Step Forecast with ARIMA."
   ]
  },
  {
   "cell_type": "code",
   "execution_count": 245,
   "metadata": {},
   "outputs": [],
   "source": [
    "# import libraries\n",
    "from datetime import datetime, timedelta\n",
    "import dateutil.parser\n",
    "import matplotlib.pyplot as plt \n",
    "plt.rcParams['figure.figsize'] = (12,8)\n",
    "import numpy as np\n",
    "import pandas as pd\n",
    "import pickle\n",
    "from statsmodels.tsa.arima_model import ARIMA"
   ]
  },
  {
   "cell_type": "code",
   "execution_count": 246,
   "metadata": {},
   "outputs": [],
   "source": [
    "def place_value(number): \n",
    "    \"\"\"Changes number to a readable number with ','s for 000s'\"\"\"\n",
    "    \n",
    "    number = int(number)\n",
    "    \n",
    "    return (\"{:,}\".format(number))\n"
   ]
  },
  {
   "cell_type": "code",
   "execution_count": 247,
   "metadata": {},
   "outputs": [],
   "source": [
    "def forecast_multi_step(df, arg_dict):\n",
    "    \"\"\"Create a forecast multiple time periods into the future\"\"\"\n",
    "    \n",
    "    # load dataset\n",
    "    series = df[arg_dict['dependent_variable']]\n",
    "    X = series.values\n",
    "\n",
    "    # fit model\n",
    "    model = ARIMA(X, order=(arg_dict['best_cfg'])) \n",
    "    model_fit = model.fit(disp=0)\n",
    "    \n",
    "    # Create time period to report on\n",
    "    start = df.index[-1]\n",
    "    end = pd.to_datetime(arg_dict['date'], infer_datetime_format=True)\n",
    "    steps = end - start\n",
    "    steps = (steps.days) + 1 # Add 1 day\n",
    "\n",
    "    # Fit the out of sample\n",
    "    forecast = model_fit.forecast(steps=steps)[0]\n",
    "\n",
    "    # Add the bias\n",
    "    predictions = []\n",
    "    for yhat in forecast:\n",
    "\n",
    "        yhat = arg_dict['bias'] + yhat\n",
    "        predictions.append(yhat)\n",
    "\n",
    "    # Create a df for reporting\n",
    "    # Create a date_range index\n",
    "    start = df.index[-1]\n",
    "    end = start + timedelta(days=steps-1)\n",
    "\n",
    "    # Create the df\n",
    "    forecast_df = pd.DataFrame({arg_dict['dependent_variable']: predictions}, index=pd.date_range(start=start, end=end))\n",
    "\n",
    "    # Shift Deaths by one day to make it lineup correctly with the date. \n",
    "    forecast_df[arg_dict['dependent_variable']] = forecast_df[arg_dict['dependent_variable']].shift(1)\n",
    "    forecast_df = forecast_df[1:]\n",
    "    \n",
    "    return forecast_df\n"
   ]
  },
  {
   "cell_type": "code",
   "execution_count": 248,
   "metadata": {},
   "outputs": [],
   "source": [
    "def forecast(forecast_df, arg_dict):\n",
    "    \"\"\"Print out the prediction in a readable format\"\"\"\n",
    "    \n",
    "    # Some countries are flattening the curve. As a result ARIMA will forecast fewer 'Deaths'.\n",
    "    # Then the cumulative numbers start decreasing and will go negative. Lets catch that here.\n",
    "    \n",
    "    # Just want a normal integer index\n",
    "    forecast_df.reset_index(inplace=True)\n",
    "    forecast_df.rename(columns={'index': 'Date_'}, inplace=True)\n",
    "\n",
    "    # Get max values\n",
    "    max_forecast = forecast_df[arg_dict['dependent_variable']].max()\n",
    "    idx_max = forecast_df[arg_dict['dependent_variable']].idxmax()\n",
    "    last_forecast = forecast_df[arg_dict['dependent_variable']].iloc[-1]\n",
    "\n",
    "    if last_forecast < max_forecast:\n",
    "        # Truncate forecast_df\n",
    "        forecast_df = forecast_df.loc[:idx_max+1]\n",
    "    else:\n",
    "        pass\n",
    "\n",
    "    predicted = place_value(int(forecast_df[arg_dict['dependent_variable']].iloc[-1]))\n",
    "    forecast_date = forecast_df['Date_'].iloc[-1]\n",
    "    print(f'The {arg_dict[\"place\"]} prediction is for {predicted} cumulative \\\n",
    "{arg_dict[\"dependent_variable\"]} to occur by {forecast_date}')\n",
    "\n",
    "    # Make Date_ the index again for plotting purposes\n",
    "    forecast_df.set_index('Date_', drop='Date_', inplace=True)\n",
    "\n",
    "    return forecast_df\n",
    "          "
   ]
  },
  {
   "cell_type": "code",
   "execution_count": 249,
   "metadata": {},
   "outputs": [],
   "source": [
    "def plot_multi_step_forecast(forecast_df, arg_dict):\n",
    "    \"\"\"Plot the multi step forecast\"\"\"\n",
    "\n",
    "    # Assemble title\n",
    "    start = forecast_df.index[0].strftime('%Y-%m-%d')\n",
    "    end = forecast_df.index[-1].strftime('%Y-%m-%d')\n",
    "    title = ('Forecast Cumulative {} for {} From {} to {}').format(\n",
    "        arg_dict['dependent_variable'], arg_dict['place'], start, end)\n",
    "    plt.title(title)\n",
    "\n",
    "    # Create x and y axis labels\n",
    "    plt.xlabel('Date')\n",
    "    ylabel_ = ('Cumulative {} In Millions').format(arg_dict['dependent_variable'])\n",
    "    plt.ylabel(ylabel_)\n",
    "\n",
    "    # Create plot\n",
    "    plt.plot(arg_dict['dependent_variable'], data=forecast_df, linewidth=4, \n",
    "             label=arg_dict['dependent_variable'])\n",
    "    plt.legend()\n",
    "    plt.savefig(r'pics/' + arg_dict['place'] + '_prediction.png');\n",
    "    "
   ]
  },
  {
   "cell_type": "code",
   "execution_count": 250,
   "metadata": {},
   "outputs": [],
   "source": [
    "def driver(df, arg_dict):\n",
    "    \"\"\"driver function for plot, save, forecast\"\"\"\n",
    "    \n",
    "    # Run forecast into the future\n",
    "    forecast_df = forecast_multi_step(df, arg_dict)\n",
    "    \n",
    "    # Report on results\n",
    "    forecast_df = forecast(forecast_df, arg_dict)\n",
    "    \n",
    "    # Plot results\n",
    "    plot_multi_step_forecast(forecast_df, arg_dict)\n",
    "    \n",
    "    return forecast_df\n"
   ]
  },
  {
   "cell_type": "code",
   "execution_count": 251,
   "metadata": {},
   "outputs": [
    {
     "name": "stdout",
     "output_type": "stream",
     "text": [
      "The USA prediction is for 343,512 cumulative Deaths to occur by 2020-12-31 00:00:00\n"
     ]
    },
    {
     "data": {
      "image/png": "[encoded data removed]",
      "text/plain": [
       "<Figure size 864x576 with 1 Axes>"
      ]
     },
     "metadata": {
      "needs_background": "light"
     },
     "output_type": "display_data"
    }
   ],
   "source": [
    "if __name__ == '__main__':\n",
    "    \n",
    "    # Prepare arguments for driver\n",
    "    with open('arg_dict.pickle', 'rb') as handle:\n",
    "        arg_dict = pickle.load(handle)\n",
    "    \n",
    "    df = pd.read_csv('df.csv', parse_dates=True, index_col='Date_')\n",
    "    \n",
    "    # Start driver\n",
    "    forecast_df = driver(df, arg_dict) \n",
    "    "
   ]
  },
  {
   "cell_type": "code",
   "execution_count": null,
   "metadata": {},
   "outputs": [],
   "source": []
  }
 ],
 "metadata": {
  "kernelspec": {
   "display_name": "sklearn",
   "language": "python",
   "name": "sklearn"
  },
  "language_info": {
   "codemirror_mode": {
    "name": "ipython",
    "version": 3
   },
   "file_extension": ".py",
   "mimetype": "text/x-python",
   "name": "python",
   "nbconvert_exporter": "python",
   "pygments_lexer": "ipython3",
   "version": "3.6.3"
  }
 },
 "nbformat": 4,
 "nbformat_minor": 2
}
