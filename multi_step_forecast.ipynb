{
 "cells": [
  {
   "cell_type": "markdown",
   "metadata": {},
   "source": [
    "Multi Step Forecast with ARIMA."
   ]
  },
  {
   "cell_type": "code",
   "execution_count": 26,
   "metadata": {},
   "outputs": [],
   "source": [
    "# import libraries\n",
    "from datetime import datetime, timedelta\n",
    "import dateutil.parser\n",
    "import matplotlib.pyplot as plt \n",
    "plt.rcParams['figure.figsize'] = (12,8)\n",
    "import numpy as np\n",
    "import pandas as pd\n",
    "import pickle\n",
    "from statsmodels.tsa.arima_model import ARIMA"
   ]
  },
  {
   "cell_type": "code",
   "execution_count": 27,
   "metadata": {},
   "outputs": [],
   "source": [
    "def place_value(number): \n",
    "    \"\"\"Changes number to a readable number with ','s for 000s'\"\"\"\n",
    "    \n",
    "    number = int(number)\n",
    "    \n",
    "    return (\"{:,}\".format(number))\n"
   ]
  },
  {
   "cell_type": "code",
   "execution_count": 28,
   "metadata": {},
   "outputs": [],
   "source": [
    "def difference(dataset, interval=1):\n",
    "    \"\"\"create a differenced series\"\"\"\n",
    "    \n",
    "    diff = []\n",
    "    for i in range(interval, len(dataset)):\n",
    "        value = dataset[i] - dataset[i - interval]\n",
    "        diff.append(value)\n",
    "        \n",
    "    return np.array(diff)\n"
   ]
  },
  {
   "cell_type": "code",
   "execution_count": 29,
   "metadata": {},
   "outputs": [],
   "source": [
    "def inverse_difference(history, yhat, interval=1):\n",
    "    \"\"\"invert differenced value\"\"\"\n",
    "    \n",
    "    return yhat + history[-interval]\n"
   ]
  },
  {
   "cell_type": "code",
   "execution_count": 33,
   "metadata": {},
   "outputs": [],
   "source": [
    "def forecast_multi_step(df, arg_dict):\n",
    "    \"\"\"Create a forecast multiple time periods into the future\"\"\"\n",
    "    \n",
    "    # load dataset\n",
    "    series = df[arg_dict['dependent_variable']]\n",
    "\n",
    "    # This algorithm accommodates seasonal variation which may be helpful if there is a season to covid.\n",
    "    # Flu season runs from November thru March with a peak in December and February each year.\n",
    "    # This is for the northern hemisphere. Obviously the opposite for the southern hemisphere.\n",
    "    # To get the maximum information into the model currently use length /2.\n",
    "    X = series.values\n",
    "    period = int(X.shape[0]/2)\n",
    "    differenced = difference(X, period)\n",
    "    \n",
    "    # The above may introduce some NaNs\n",
    "    differenced = differenced[~np.isnan(differenced)]\n",
    "\n",
    "    # fit model\n",
    "    model = ARIMA(differenced, order=(arg_dict['best_cfg'])) \n",
    "    model_fit = model.fit(disp=0)\n",
    "\n",
    "    # Create time period to report on\n",
    "    start = df.index[-1]\n",
    "    end = pd.to_datetime(arg_dict['date'], infer_datetime_format=True)\n",
    "    steps = end - start\n",
    "    steps = (steps.days) + 1 # Add 1 day\n",
    "\n",
    "    # Fit the out of sample\n",
    "    forecast = model_fit.forecast(steps=steps)[0]\n",
    "\n",
    "    # invert the differenced forecast to something usable\n",
    "    history = [x for x in X]\n",
    "    inverted_ = []\n",
    "\n",
    "    for day, yhat in enumerate(forecast):\n",
    "\n",
    "        inverted = inverse_difference(history, yhat, period)\n",
    "        history.append(inverted)\n",
    "        inverted_.append(int(inverted))\n",
    "\n",
    "    # Create a df for reporting\n",
    "    # Create a date_range index\n",
    "    start = df.index[-1]\n",
    "    end = start + timedelta(days=steps-1)\n",
    "\n",
    "    # Create the df\n",
    "    forecast_df = pd.DataFrame({arg_dict['dependent_variable']: inverted_}, index=pd.date_range(start=start, end=end))\n",
    "\n",
    "    # Shift Deaths by one day to make it lineup correctly with the date. \n",
    "    forecast_df[arg_dict['dependent_variable']] = forecast_df[arg_dict['dependent_variable']].shift(1)\n",
    "    forecast_df = forecast_df[1:]\n",
    "    \n",
    "    return forecast_df\n"
   ]
  },
  {
   "cell_type": "code",
   "execution_count": 34,
   "metadata": {},
   "outputs": [],
   "source": [
    "def forecast(forecast_df, arg_dict):\n",
    "    \"\"\"Print out the prediction in a readable format\"\"\"\n",
    "    \n",
    "    predicted = place_value(int(forecast_df[arg_dict['dependent_variable']].iloc[-1]))\n",
    "    forecast_date = forecast_df.index[-1].strftime('%Y-%m-%d')\n",
    "    print(f'The {arg_dict[\"place\"]} prediction is for {predicted} cumulative {arg_dict[\"dependent_variable\"]} to occur by {forecast_date}')\n"
   ]
  },
  {
   "cell_type": "code",
   "execution_count": 38,
   "metadata": {},
   "outputs": [],
   "source": [
    "def plot_multi_step_forecast(forecast_df, arg_dict):\n",
    "    \"\"\"Plot the multi step forecast\"\"\"\n",
    "    \n",
    "    # Add a new column that is dependent_variable per million\n",
    "    forecast_df[arg_dict['dependent_variable'] + '_e6'] = forecast_df[arg_dict['dependent_variable']] / 1000000\n",
    "\n",
    "    # Assemble title\n",
    "    start = forecast_df.index[0].strftime('%Y-%m-%d')\n",
    "    title = ('Forecast Cumulative {} for {} In Millions For Covid-19 ({} to {})').format(\n",
    "        arg_dict['dependent_variable'], arg_dict['place'], start, arg_dict['date'])\n",
    "    plt.title(title)\n",
    "\n",
    "    # Create x and y axis labels\n",
    "    plt.xlabel('Date')\n",
    "    ylabel_ = ('Cumulative {} In Millions').format(arg_dict['dependent_variable'])\n",
    "    plt.ylabel(ylabel_)\n",
    "\n",
    "    # Create plot\n",
    "    plt.plot(arg_dict['dependent_variable'] + '_e6', data=forecast_df, linewidth=4, \n",
    "             label=arg_dict['dependent_variable'] + '_e6')\n",
    "    plt.legend()\n",
    "    plt.savefig(r'pics/' + arg_dict['place'] + '_prediction.png');\n",
    "    "
   ]
  },
  {
   "cell_type": "code",
   "execution_count": 39,
   "metadata": {},
   "outputs": [],
   "source": [
    "def driver(df, arg_dict):\n",
    "    \"\"\"driver function for plot, save, forecast\"\"\"\n",
    "    \n",
    "    # Run forecast into the future\n",
    "    forecast_df = forecast_multi_step(df, arg_dict)\n",
    "    \n",
    "    # Report on results\n",
    "    forecast(forecast_df, arg_dict)\n",
    "    \n",
    "    # Plot results\n",
    "    plot_multi_step_forecast(forecast_df, arg_dict)\n",
    "    \n",
    "    return forecast_df\n"
   ]
  },
  {
   "cell_type": "code",
   "execution_count": 40,
   "metadata": {},
   "outputs": [
    {
     "name": "stdout",
     "output_type": "stream",
     "text": [
      "The United Kingdom prediction is for -631 cumulative Confirmed to occur by 2020-12-31\n"
     ]
    },
    {
     "data": {
      "image/png": "[encoded data removed]",
      "text/plain": [
       "<Figure size 864x576 with 1 Axes>"
      ]
     },
     "metadata": {
      "needs_background": "light"
     },
     "output_type": "display_data"
    }
   ],
   "source": [
    "if __name__ == '__main__':\n",
    "    \n",
    "    # Prepare arguments for driver\n",
    "    with open('arg_dict.pickle', 'rb') as handle:\n",
    "        arg_dict = pickle.load(handle)\n",
    "    \n",
    "    arg_dict.update({'date': '12-31-2020'})\n",
    "    df = pd.read_csv('df.csv', parse_dates=True, index_col='Date_')\n",
    "    \n",
    "    # Start driver\n",
    "    forecast_df = driver(df, arg_dict) \n",
    "    "
   ]
  },
  {
   "cell_type": "code",
   "execution_count": null,
   "metadata": {},
   "outputs": [],
   "source": []
  }
 ],
 "metadata": {
  "kernelspec": {
   "display_name": "sklearn",
   "language": "python",
   "name": "sklearn"
  },
  "language_info": {
   "codemirror_mode": {
    "name": "ipython",
    "version": 3
   },
   "file_extension": ".py",
   "mimetype": "text/x-python",
   "name": "python",
   "nbconvert_exporter": "python",
   "pygments_lexer": "ipython3",
   "version": "3.6.3"
  }
 },
 "nbformat": 4,
 "nbformat_minor": 2
}
